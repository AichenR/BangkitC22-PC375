{
  "nbformat": 4,
  "nbformat_minor": 0,
  "metadata": {
    "colab": {
      "name": "Chatbot.ipynb",
      "provenance": [],
      "collapsed_sections": [],
      "authorship_tag": "ABX9TyO2rtcp1PdkMzmimkjW6tb7",
      "include_colab_link": true
    },
    "kernelspec": {
      "name": "python3",
      "display_name": "Python 3"
    },
    "language_info": {
      "name": "python"
    }
  },
  "cells": [
    {
      "cell_type": "markdown",
      "metadata": {
        "id": "view-in-github",
        "colab_type": "text"
      },
      "source": [
        "<a href=\"https://colab.research.google.com/github/Liar-02/BangkitC22-PC375/blob/main/Chatbot.ipynb\" target=\"_parent\"><img src=\"https://colab.research.google.com/assets/colab-badge.svg\" alt=\"Open In Colab\"/></a>"
      ]
    },
    {
      "cell_type": "markdown",
      "source": [
        "# **Import Libraries**\n",
        "Main libraries that are used are Tensorflow2, Keras, Numpy, and pandas"
      ],
      "metadata": {
        "id": "tyDUbBmqn2bh"
      }
    },
    {
      "cell_type": "code",
      "execution_count": null,
      "metadata": {
        "id": "1rWLD5R7m_pF"
      },
      "outputs": [],
      "source": [
        "import tensorflow as tf\n",
        "import numpy as np\n",
        "import pandas as pd\n",
        "import json\n",
        "import nltk\n",
        "from tensorflow.keras.preprocessing.text import Tokenizer\n",
        "import matplotlib.pyplot as plt"
      ]
    },
    {
      "cell_type": "markdown",
      "source": [
        "# **Importing dataset**\n",
        "import data_chatbot.json dataset and used as a pandas dataframe. The format dataset is tag, input, and responses."
      ],
      "metadata": {
        "id": "oWKau0k0pQY9"
      }
    },
    {
      "cell_type": "code",
      "source": [
        "with open(\"data_chatbot.json\") as content :\n",
        "  data1 = json.load(content)"
      ],
      "metadata": {
        "id": "HOcuQgPFp_93"
      },
      "execution_count": null,
      "outputs": []
    },
    {
      "cell_type": "code",
      "source": [
        "#getting all the data to lists\n",
        "tags = {}\n",
        "inputs = {}\n",
        "responses = {}\n",
        "for intent in data1[\"intents\"]:\n",
        "  responses[intent[\"tag\"]] = intent[\"responses\"]\n",
        "  for lines in intent[\"input\"]:\n",
        "    inputs.append(lines)\n",
        "    tags.append(intent[\"tag\"])"
      ],
      "metadata": {
        "id": "wTOjw5-6rXlJ"
      },
      "execution_count": null,
      "outputs": []
    },
    {
      "cell_type": "code",
      "source": [
        "#converting to dataframe\n",
        "data = pd.Dataframe({\"inputs\" : inputs,\n",
        "                     \"tags\" : tags})"
      ],
      "metadata": {
        "id": "UfhIo7S9soR6"
      },
      "execution_count": null,
      "outputs": []
    }
  ]
}